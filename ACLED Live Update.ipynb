{
 "cells": [
  {
   "cell_type": "code",
   "execution_count": null,
   "metadata": {},
   "outputs": [],
   "source": [
    "import requests\n",
    "import getpass\n",
    "from datetime import datetime, timedelta\n",
    "from IPython.display import clear_output\n",
    "\n",
    "from arcgis.gis import GIS"
   ]
  },
  {
   "cell_type": "markdown",
   "metadata": {},
   "source": [
    "## Setup your connection to ArcGIS Online"
   ]
  },
  {
   "cell_type": "code",
   "execution_count": null,
   "metadata": {
    "scrolled": true
   },
   "outputs": [],
   "source": [
    "username = input('Username: ')\n",
    "password = getpass.getpass('Password: ')\n",
    "arcgis_url = 'https://www.arcgis.com'\n",
    "\n",
    "# create your `gis` instance \n",
    "gis = GIS(arcgis_url, username, password)\n",
    "\n",
    "print ('succesfully logged in.')"
   ]
  },
  {
   "cell_type": "markdown",
   "metadata": {},
   "source": [
    "## Setup the request to the API"
   ]
  },
  {
   "cell_type": "code",
   "execution_count": null,
   "metadata": {
    "scrolled": true
   },
   "outputs": [],
   "source": [
    "look_back_days = 35\n",
    "days_ago_dte = datetime.now() - timedelta(days=look_back_days)\n",
    "days_ago = days_ago_dte.strftime('%Y-%m-%d')\n",
    "\n",
    "limit = 10\n",
    "\n",
    "api_url = 'https://api.acleddata.com/acled/read?event_date={}&event_date_where=%3E=&limit={}'.format(days_ago, limit)"
   ]
  },
  {
   "cell_type": "markdown",
   "metadata": {},
   "source": [
    "## Request data from the ACLED API"
   ]
  },
  {
   "cell_type": "code",
   "execution_count": null,
   "metadata": {},
   "outputs": [],
   "source": [
    "response = requests.get(api_url)\n",
    "data = response.json()\n",
    "rows = data['data']\n",
    "print ('ACLED API returned ~ {} ~ rows'.format(len(rows)))"
   ]
  },
  {
   "cell_type": "markdown",
   "metadata": {},
   "source": [
    "## ItemId of ArcGIS Online/Portal ACLED Live service"
   ]
  },
  {
   "cell_type": "code",
   "execution_count": null,
   "metadata": {},
   "outputs": [],
   "source": [
    "item_id = '910a2cd8097349a1bb11de437e830f5d'\n",
    "live_item = gis.content.get(itemid=item_id)\n",
    "fl = live_item.layers[0]"
   ]
  },
  {
   "cell_type": "markdown",
   "metadata": {},
   "source": [
    "## Delete existing features\n",
    "When using feature services with a large amount of features, it's sometimes best to chunk up any editing jobs into reasonable sized requests. Here we will add 1,000 features at a time."
   ]
  },
  {
   "cell_type": "code",
   "execution_count": null,
   "metadata": {},
   "outputs": [],
   "source": [
    "try:\n",
    "    delete_response = fl.delete_features(where='1=1')\n",
    "    delete_results = delete_response['deleteResults']\n",
    "    print ('succesfully deleted {} rows'.format(len(delete_results)))\n",
    "except Exception as e:\n",
    "    print ('error deleting features')"
   ]
  },
  {
   "cell_type": "markdown",
   "metadata": {},
   "source": [
    "## construct the features"
   ]
  },
  {
   "cell_type": "code",
   "execution_count": null,
   "metadata": {},
   "outputs": [],
   "source": [
    "features = []\n",
    "for event in rows:\n",
    "#         print (event)\n",
    "#         event_date = datetime.strptime(event['event_date'], '%Y-%m-%d').date()\n",
    "    feature = {\n",
    "        'geometry': {\n",
    "            'x': float(event['longitude']),\n",
    "            'y': float(event['latitude'])\n",
    "        },\n",
    "        'attributes': {\n",
    "            'data_id': int(event['data_id']),\n",
    "            'iso': event['iso'],\n",
    "            'event_id_cnty': event['event_id_cnty'],\n",
    "            'event_id_no_cnty': event['event_id_no_cnty'],\n",
    "            'event_date': event['event_date'],\n",
    "            'year': int(event['year']),\n",
    "            'time_precision': event['time_precision'],\n",
    "            'event_type': event['event_type'],\n",
    "            'actor1': event['actor1'],\n",
    "            'assoc_actor_1': event['assoc_actor_1'],\n",
    "            'inter1': event['inter1'],\n",
    "            'actor2': event['actor2'],\n",
    "            'assoc_actor_2': event['assoc_actor_2'],\n",
    "            'inter2': event['inter2'],\n",
    "            'interaction': event['interaction'],\n",
    "            'region': event['region'],\n",
    "            'country': event['country'],\n",
    "            'admin1': event['admin1'],\n",
    "            'admin2': event['admin2'],\n",
    "            'admin3': event['admin3'],\n",
    "            'location': event['location'],\n",
    "            'latitude': float(event['latitude']),\n",
    "            'longitude': float(event['longitude']),\n",
    "            'geo_precision': event['geo_precision'],\n",
    "            'source': event['source'],\n",
    "            'source_scale': event['source_scale'],\n",
    "            'notes': event['notes'],\n",
    "            'fatalities': int(event['fatalities']),\n",
    "            'timestamp': int(event['timestamp']),\n",
    "            'iso3': event['iso3']\n",
    "        }\n",
    "    }\n",
    "\n",
    "    features.append(feature)"
   ]
  },
  {
   "cell_type": "markdown",
   "metadata": {},
   "source": [
    "## Chunk up the features to be added\n",
    "When using feature services with a large amount of features, it's sometimes best to chunk up any editing jobs into reasonable sized requests. Here we will add 1,000 features at a time."
   ]
  },
  {
   "cell_type": "code",
   "execution_count": null,
   "metadata": {},
   "outputs": [],
   "source": [
    "n =  1000\n",
    "feature_chunks = [features[i:i+n] for i in range(0, len(features), n)]"
   ]
  },
  {
   "cell_type": "markdown",
   "metadata": {},
   "source": [
    "## Make the edits to the feature layer\n",
    "Here we loop through each chunk of 1,000 features and apply those edits"
   ]
  },
  {
   "cell_type": "code",
   "execution_count": null,
   "metadata": {},
   "outputs": [],
   "source": [
    "c_len = len(feature_chunks)\n",
    "for i, adds in enumerate(feature_chunks):\n",
    "    try:\n",
    "        fl.edit_features(adds=adds)\n",
    "        print ('added chunk {} of {}'.format(i+1, c_len))\n",
    "        clear_output(wait=True)\n",
    "    except Exception as e:    \n",
    "        print ('error adding chunk')\n",
    "\n",
    "print ('done')"
   ]
  }
 ],
 "metadata": {
  "kernelspec": {
   "display_name": "Python 3",
   "language": "python",
   "name": "python3"
  },
  "language_info": {
   "codemirror_mode": {
    "name": "ipython",
    "version": 3
   },
   "file_extension": ".py",
   "mimetype": "text/x-python",
   "name": "python",
   "nbconvert_exporter": "python",
   "pygments_lexer": "ipython3",
   "version": "3.6.1"
  }
 },
 "nbformat": 4,
 "nbformat_minor": 2
}
